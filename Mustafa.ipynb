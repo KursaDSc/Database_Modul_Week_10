{
 "cells": [
  {
   "cell_type": "markdown",
   "id": "ccfde88c",
   "metadata": {},
   "source": [
    "Database ve tabloların oluşturulup kayıtların eklenmesi"
   ]
  },
  {
   "cell_type": "code",
   "execution_count": null,
   "id": "603feaef",
   "metadata": {},
   "outputs": [],
   "source": []
  },
  {
   "cell_type": "markdown",
   "id": "98eef3aa",
   "metadata": {},
   "source": [
    "1 - Find the employees who get paid more than Rodney Weaver."
   ]
  },
  {
   "cell_type": "code",
   "execution_count": null,
   "id": "2f3ccbad",
   "metadata": {},
   "outputs": [],
   "source": []
  },
  {
   "cell_type": "markdown",
   "id": "0cc3d918",
   "metadata": {},
   "source": [
    "2 - Find the average, min and max salaries"
   ]
  },
  {
   "cell_type": "code",
   "execution_count": null,
   "id": "eb7d3b7a",
   "metadata": {},
   "outputs": [],
   "source": []
  },
  {
   "cell_type": "markdown",
   "id": "441acbe5",
   "metadata": {},
   "source": [
    "3 - Find the employees whose salary is more than 8700. Our query should return first name, last name, and salary info of the employees."
   ]
  },
  {
   "cell_type": "code",
   "execution_count": null,
   "id": "ad5339d6",
   "metadata": {},
   "outputs": [],
   "source": []
  },
  {
   "cell_type": "markdown",
   "id": "1185cde6",
   "metadata": {},
   "source": [
    "4 - Find the employees (first name, last name from employees table) who work under the Operations department (departments table). Our query should return first name and last name info."
   ]
  },
  {
   "cell_type": "code",
   "execution_count": null,
   "id": "b915a1f3",
   "metadata": {},
   "outputs": [],
   "source": []
  },
  {
   "cell_type": "markdown",
   "id": "68db64e1",
   "metadata": {},
   "source": [
    "5 - Find the employees (first name, last name from employees table) who work under the Technology department (departments table). Our query should return first name and last name info."
   ]
  },
  {
   "cell_type": "code",
   "execution_count": null,
   "id": "c520fe98",
   "metadata": {},
   "outputs": [],
   "source": []
  },
  {
   "cell_type": "markdown",
   "id": "69cbf637",
   "metadata": {},
   "source": [
    "6 - Find the average salary of female employees."
   ]
  },
  {
   "cell_type": "code",
   "execution_count": null,
   "id": "d063513c",
   "metadata": {},
   "outputs": [],
   "source": []
  },
  {
   "cell_type": "markdown",
   "id": "2daebe7c",
   "metadata": {},
   "source": [
    "7 - Find the average salaries of each department."
   ]
  },
  {
   "cell_type": "code",
   "execution_count": null,
   "id": "fd6b9a41",
   "metadata": {},
   "outputs": [],
   "source": []
  },
  {
   "cell_type": "markdown",
   "id": "56d2045d",
   "metadata": {},
   "source": [
    "8 - Find the oldest and newest employees."
   ]
  },
  {
   "cell_type": "code",
   "execution_count": null,
   "id": "dda1a998",
   "metadata": {},
   "outputs": [],
   "source": []
  },
  {
   "cell_type": "markdown",
   "id": "95de0e03",
   "metadata": {},
   "source": [
    "9 - Find the hiring date and department of the highest paid employee"
   ]
  },
  {
   "cell_type": "code",
   "execution_count": null,
   "id": "fea4e9aa",
   "metadata": {},
   "outputs": [],
   "source": []
  },
  {
   "cell_type": "markdown",
   "id": "5f6a39a7",
   "metadata": {},
   "source": [
    "10 - Find the hiring date and department of the lowest paid employee"
   ]
  },
  {
   "cell_type": "code",
   "execution_count": null,
   "id": "24704580",
   "metadata": {},
   "outputs": [],
   "source": []
  }
 ],
 "metadata": {
  "kernelspec": {
   "display_name": "Python 3",
   "language": "python",
   "name": "python3"
  },
  "language_info": {
   "codemirror_mode": {
    "name": "ipython",
    "version": 3
   },
   "file_extension": ".py",
   "mimetype": "text/x-python",
   "name": "python",
   "nbconvert_exporter": "python",
   "pygments_lexer": "ipython3",
   "version": "3.13.3"
  }
 },
 "nbformat": 4,
 "nbformat_minor": 5
}
